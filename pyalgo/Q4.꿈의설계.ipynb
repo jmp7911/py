{
 "cells": [
  {
   "cell_type": "code",
   "execution_count": null,
   "metadata": {},
   "outputs": [
    {
     "data": {
      "text/plain": [
       "'최종 꿈의 설계는 원래 미래 23840, 바뀐 미래 37840입니다. 이 수치대로 Vision을 만듭니다.'"
      ]
     },
     "execution_count": 1,
     "metadata": {},
     "output_type": "execute_result"
    }
   ],
   "source": [
    "import re\n",
    "def solution(data:list):\n",
    "    train: str = data[0]\n",
    "    think: str = data[1]\n",
    "    \n",
    "    trainDetail = dict()\n",
    "    for x in train.split(\".\"):\n",
    "        alpha = re.findall(r'[a-zA-Z]+', x)\n",
    "        num = re.findall(r'[0-9]+', x)\n",
    "        alpha = alpha[0] if len(alpha) > 0 else ''\n",
    "        num = num[0] if len(num) > 0 else 0\n",
    "        after = trainDetail.get(alpha, 0) + int(num)\n",
    "        trainDetail[alpha] = after\n",
    "    \n",
    "    thinkDetail = dict()\n",
    "    for x in think.split(\".\"):\n",
    "        alpha = re.findall(r'[a-zA-Z]+', x)\n",
    "        num = re.findall(r'[0-9]+', x)\n",
    "        alpha = alpha[0] if len(alpha) > 0 else ''\n",
    "        num = num[0] if len(num) > 0 else 0\n",
    "        after = thinkDetail.get(alpha, 0) + int(num)\n",
    "        thinkDetail[alpha] = after\n",
    "    \n",
    "    # 원래 미래\n",
    "    origin_answer = 0\n",
    "    for key, value in trainDetail.items():\n",
    "        if thinkDetail.get(key, 0) > 0:\n",
    "            origin_answer += value * thinkDetail[key]\n",
    "    # 가장 큰 값 찾기\n",
    "    max_value = max(trainDetail.values())\n",
    "\n",
    "    # 가장 큰 값이 있는 키 찾기\n",
    "    for key, value in trainDetail.items():\n",
    "        if value == max_value:\n",
    "            trainDetail[key] += 100  # 100 더하기\n",
    "            \n",
    "    # 가장 큰 값 찾기\n",
    "    max_value = max(thinkDetail.values())\n",
    "\n",
    "    # 가장 큰 값이 있는 키 찾기\n",
    "    for key, value in thinkDetail.items():\n",
    "        if value == max_value:\n",
    "            thinkDetail[key] += 100  # 100 더하기\n",
    "    \n",
    "    \n",
    "    # 바뀐 미래\n",
    "    answer = 0\n",
    "    for key, value in trainDetail.items():\n",
    "        if thinkDetail.get(key, 0) > 0:\n",
    "            answer += value * thinkDetail[key]\n",
    "    \n",
    "    if answer == 0 and origin_answer == 0:\n",
    "        return '미래가 보이지 않습니다.'\n",
    "    else:\n",
    "        return f'최종 꿈의 설계는 원래 미래 {origin_answer}, 바뀐 미래 {answer}입니다. 이 수치대로 Vision을 만듭니다.'\n"
   ]
  }
 ],
 "metadata": {
  "kernelspec": {
   "display_name": "Python 3",
   "language": "python",
   "name": "python3"
  },
  "language_info": {
   "codemirror_mode": {
    "name": "ipython",
    "version": 3
   },
   "file_extension": ".py",
   "mimetype": "text/x-python",
   "name": "python",
   "nbconvert_exporter": "python",
   "pygments_lexer": "ipython3",
   "version": "3.11.9"
  }
 },
 "nbformat": 4,
 "nbformat_minor": 2
}

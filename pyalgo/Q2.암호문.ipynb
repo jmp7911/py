{
 "cells": [
  {
   "cell_type": "code",
   "execution_count": null,
   "metadata": {},
   "outputs": [],
   "source": [
    "def solution(data:str):\n",
    "    answer = 0\n",
    "    s = ['r','e','v']\n",
    "    \n",
    "    for i in range(10, 0, -1):\n",
    "        for item in s:\n",
    "            find = item + str(i)\n",
    "            answer += data.count(find) * i\n",
    "            data = data.replace(find, '')\n",
    "            \n",
    "    \n",
    "    return f\"{str(answer//10)}월 {str(answer%10)}일\""
   ]
  }
 ],
 "metadata": {
  "language_info": {
   "name": "python"
  }
 },
 "nbformat": 4,
 "nbformat_minor": 2
}

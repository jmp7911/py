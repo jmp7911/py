{
 "cells": [
  {
   "cell_type": "code",
   "execution_count": null,
   "metadata": {},
   "outputs": [],
   "source": [
    "def solution(data):\n",
    "    name = []\n",
    "    score = []\n",
    "    data.sort(key=lambda x: sum(x[1:]), reverse=True)\n",
    "    \n",
    "    for i in range(len(data)):\n",
    "        name.append(data[i][0])\n",
    "        score.append(sum(data[i][1:]))\n",
    "    \n",
    "    cnt = int(len(data) * 0.3)\n",
    "    \n",
    "    if cnt == 0:\n",
    "        return []\n",
    "    \n",
    "    max_index = cnt\n",
    "    \n",
    "    for i in range(cnt, 0, -1):\n",
    "        if score[i] == score[i-1]:\n",
    "            max_index = i - 1\n",
    "        else:\n",
    "            break\n",
    "    \n",
    "    answer = name[:max_index]\n",
    "    answer.sort(reverse=True)\n",
    "    \n",
    "    return answer"
   ]
  }
 ],
 "metadata": {
  "language_info": {
   "name": "python"
  }
 },
 "nbformat": 4,
 "nbformat_minor": 2
}
